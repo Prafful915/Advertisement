{
 "cells": [
  {
   "cell_type": "code",
   "execution_count": 1,
   "id": "fced990f",
   "metadata": {},
   "outputs": [],
   "source": [
    "import pandas as pd\n",
    "import matplotlib.pyplot as plt\n",
    "import seaborn as sns\n",
    "import plotly\n",
    "import plotly.express as px\n",
    "import plotly.graph_objects as go\n",
    "from matplotlib import style\n",
    "import warnings\n",
    "warnings.filterwarnings(\"ignore\")\n",
    "\n",
    "%matplotlib inline"
   ]
  },
  {
   "cell_type": "code",
   "execution_count": 2,
   "id": "86058195",
   "metadata": {},
   "outputs": [
    {
     "name": "stdout",
     "output_type": "stream",
     "text": [
      "<class 'pandas.core.frame.DataFrame'>\n",
      "RangeIndex: 25 entries, 0 to 24\n",
      "Data columns (total 6 columns):\n",
      " #   Column                                      Non-Null Count  Dtype \n",
      "---  ------                                      --------------  ----- \n",
      " 0   S. No.                                      25 non-null     int64 \n",
      " 1   Name of State / UT                          25 non-null     object\n",
      " 2   Total Confirmed cases (Indian National)     25 non-null     int64 \n",
      " 3   Total Confirmed cases ( Foreign National )  25 non-null     int64 \n",
      " 4   Cured                                       25 non-null     int64 \n",
      " 5   Death                                       25 non-null     int64 \n",
      "dtypes: int64(5), object(1)\n",
      "memory usage: 1.3+ KB\n"
     ]
    }
   ],
   "source": [
    "df = pd.read_excel(\"covid_19_india.xlsx\")\n",
    "df.info()"
   ]
  },
  {
   "cell_type": "code",
   "execution_count": 3,
   "id": "9e20b927",
   "metadata": {},
   "outputs": [],
   "source": [
    "df[\"Total Cases\"] = df[\"Total Confirmed cases (Indian National)\"] + df[\"Total Confirmed cases ( Foreign National )\"]\n",
    "df = df.drop([\"Total Confirmed cases (Indian National)\", \"Total Confirmed cases ( Foreign National )\", \"S. No.\"], axis = 1)\n",
    "df.rename(columns = {\"Name of State / UT\" : \"state\"}, inplace = True)"
   ]
  },
  {
   "cell_type": "code",
   "execution_count": 4,
   "id": "b7dd48fb",
   "metadata": {},
   "outputs": [
    {
     "data": {
      "text/html": [
       "<div>\n",
       "<style scoped>\n",
       "    .dataframe tbody tr th:only-of-type {\n",
       "        vertical-align: middle;\n",
       "    }\n",
       "\n",
       "    .dataframe tbody tr th {\n",
       "        vertical-align: top;\n",
       "    }\n",
       "\n",
       "    .dataframe thead th {\n",
       "        text-align: right;\n",
       "    }\n",
       "</style>\n",
       "<table border=\"1\" class=\"dataframe\">\n",
       "  <thead>\n",
       "    <tr style=\"text-align: right;\">\n",
       "      <th></th>\n",
       "      <th>state</th>\n",
       "      <th>Cured</th>\n",
       "      <th>Death</th>\n",
       "      <th>Total Cases</th>\n",
       "    </tr>\n",
       "  </thead>\n",
       "  <tbody>\n",
       "    <tr>\n",
       "      <th>0</th>\n",
       "      <td>Andhra Pradesh</td>\n",
       "      <td>0</td>\n",
       "      <td>0</td>\n",
       "      <td>9</td>\n",
       "    </tr>\n",
       "    <tr>\n",
       "      <th>1</th>\n",
       "      <td>Bihar</td>\n",
       "      <td>0</td>\n",
       "      <td>1</td>\n",
       "      <td>3</td>\n",
       "    </tr>\n",
       "    <tr>\n",
       "      <th>2</th>\n",
       "      <td>Chhattisgarh</td>\n",
       "      <td>0</td>\n",
       "      <td>0</td>\n",
       "      <td>1</td>\n",
       "    </tr>\n",
       "    <tr>\n",
       "      <th>3</th>\n",
       "      <td>Delhi</td>\n",
       "      <td>6</td>\n",
       "      <td>1</td>\n",
       "      <td>31</td>\n",
       "    </tr>\n",
       "    <tr>\n",
       "      <th>4</th>\n",
       "      <td>Gujarat</td>\n",
       "      <td>0</td>\n",
       "      <td>1</td>\n",
       "      <td>33</td>\n",
       "    </tr>\n",
       "  </tbody>\n",
       "</table>\n",
       "</div>"
      ],
      "text/plain": [
       "            state  Cured  Death  Total Cases\n",
       "0  Andhra Pradesh      0      0            9\n",
       "1           Bihar      0      1            3\n",
       "2    Chhattisgarh      0      0            1\n",
       "3           Delhi      6      1           31\n",
       "4         Gujarat      0      1           33"
      ]
     },
     "execution_count": 4,
     "metadata": {},
     "output_type": "execute_result"
    }
   ],
   "source": [
    "df.head()"
   ]
  },
  {
   "cell_type": "code",
   "execution_count": 5,
   "id": "154fe030",
   "metadata": {},
   "outputs": [],
   "source": [
    "India = pd.read_excel(\"per_day_cases.xlsx\",parse_dates = True, sheet_name=\"India\")"
   ]
  },
  {
   "cell_type": "code",
   "execution_count": 6,
   "id": "e49f827c",
   "metadata": {},
   "outputs": [
    {
     "name": "stdout",
     "output_type": "stream",
     "text": [
      "Total number of active cases of covid 19 in the month of march 2020 in india :  512\n"
     ]
    }
   ],
   "source": [
    "df[\"Total Active\"] = df[\"Total Cases\"] - (df[\"Death\"] + df[\"Cured\"])\n",
    "print(\"Total number of active cases of covid 19 in the month of march 2020 in india : \", df[\"Total Active\"].sum())"
   ]
  },
  {
   "cell_type": "code",
   "execution_count": 7,
   "id": "6a73fd7a",
   "metadata": {},
   "outputs": [
    {
     "name": "stdout",
     "output_type": "stream",
     "text": [
      "10 State which have highest Active Cases in the month of march 2020 in India\n",
      "\n"
     ]
    },
    {
     "data": {
      "text/html": [
       "<div>\n",
       "<style scoped>\n",
       "    .dataframe tbody tr th:only-of-type {\n",
       "        vertical-align: middle;\n",
       "    }\n",
       "\n",
       "    .dataframe tbody tr th {\n",
       "        vertical-align: top;\n",
       "    }\n",
       "\n",
       "    .dataframe thead th {\n",
       "        text-align: right;\n",
       "    }\n",
       "</style>\n",
       "<table border=\"1\" class=\"dataframe\">\n",
       "  <thead>\n",
       "    <tr style=\"text-align: right;\">\n",
       "      <th></th>\n",
       "      <th>state</th>\n",
       "      <th>Total Active</th>\n",
       "    </tr>\n",
       "  </thead>\n",
       "  <tbody>\n",
       "    <tr>\n",
       "      <th>0</th>\n",
       "      <td>Kerala</td>\n",
       "      <td>105</td>\n",
       "    </tr>\n",
       "    <tr>\n",
       "      <th>1</th>\n",
       "      <td>Maharashtra</td>\n",
       "      <td>99</td>\n",
       "    </tr>\n",
       "    <tr>\n",
       "      <th>2</th>\n",
       "      <td>Karnataka</td>\n",
       "      <td>37</td>\n",
       "    </tr>\n",
       "    <tr>\n",
       "      <th>3</th>\n",
       "      <td>Telengana</td>\n",
       "      <td>34</td>\n",
       "    </tr>\n",
       "    <tr>\n",
       "      <th>4</th>\n",
       "      <td>Gujarat</td>\n",
       "      <td>32</td>\n",
       "    </tr>\n",
       "    <tr>\n",
       "      <th>5</th>\n",
       "      <td>Rajasthan</td>\n",
       "      <td>29</td>\n",
       "    </tr>\n",
       "    <tr>\n",
       "      <th>6</th>\n",
       "      <td>Punjab</td>\n",
       "      <td>28</td>\n",
       "    </tr>\n",
       "    <tr>\n",
       "      <th>7</th>\n",
       "      <td>Uttar Pradesh</td>\n",
       "      <td>24</td>\n",
       "    </tr>\n",
       "    <tr>\n",
       "      <th>8</th>\n",
       "      <td>Delhi</td>\n",
       "      <td>24</td>\n",
       "    </tr>\n",
       "    <tr>\n",
       "      <th>9</th>\n",
       "      <td>Haryana</td>\n",
       "      <td>17</td>\n",
       "    </tr>\n",
       "  </tbody>\n",
       "</table>\n",
       "</div>"
      ],
      "text/plain": [
       "           state  Total Active\n",
       "0         Kerala           105\n",
       "1    Maharashtra            99\n",
       "2      Karnataka            37\n",
       "3      Telengana            34\n",
       "4        Gujarat            32\n",
       "5      Rajasthan            29\n",
       "6         Punjab            28\n",
       "7  Uttar Pradesh            24\n",
       "8          Delhi            24\n",
       "9        Haryana            17"
      ]
     },
     "execution_count": 7,
     "metadata": {},
     "output_type": "execute_result"
    }
   ],
   "source": [
    "print(\"10 State which have highest Active Cases in the month of march 2020 in India\\n\")\n",
    "df.groupby(\"state\")[\"Total Active\"].sum().sort_values(ascending = False).reset_index().head(10)"
   ]
  },
  {
   "cell_type": "code",
   "execution_count": 8,
   "id": "c6727227",
   "metadata": {
    "scrolled": true
   },
   "outputs": [
    {
     "data": {
      "image/png": "[encoded data removed]",
      "text/plain": [
       "<Figure size 576x360 with 1 Axes>"
      ]
     },
     "metadata": {
      "needs_background": "light"
     },
     "output_type": "display_data"
    }
   ],
   "source": [
    "f,ax = plt.subplots(figsize = (8,5))\n",
    "data = df\n",
    "data.sort_values(\"Total Active\", ascending = False, inplace = True)\n",
    "data = data.head(10)\n",
    "sns.set_color_codes(\"pastel\")\n",
    "sns.barplot(x = \"Total Active\",y = \"state\", data = data, label = \"Total\", color = \"r\")\n",
    "\n",
    "sns.set_color_codes(\"muted\")\n",
    "sns.barplot(x = \"Cured\", y = \"state\", data = data, label = \"Cured\", color = \"g\")\n",
    "\n",
    "ax.legend(ncol = 2, loc = \"lower right\", frameon = True)\n",
    "ax.set(ylabel = \"State\", xlabel = None)\n",
    "sns.despine(left = True, bottom = True)\n",
    "plt.show()"
   ]
  },
  {
   "cell_type": "code",
   "execution_count": 9,
   "id": "b8fd43db",
   "metadata": {},
   "outputs": [
    {
     "data": {
      "image/png": "[encoded data removed]",
      "text/plain": [
       "<Figure size 792x504 with 1 Axes>"
      ]
     },
     "metadata": {
      "needs_background": "light"
     },
     "output_type": "display_data"
    }
   ],
   "source": [
    "plt.figure(figsize = (11,7))\n",
    "plt.xticks(rotation = 90)\n",
    "sns.scatterplot(x = India[\"Date\"], y = India[\"Total Cases\"])\n",
    "plt.xlabel(\"Date\", fontsize = 15, c = \"r\")\n",
    "plt.ylabel(\"Total Cases\", fontsize = 15, c = \"r\")\n",
    "plt.title(\"Trend of covid 19 in March 2020 in India\")\n",
    "plt.style.use(\"seaborn-dark-palette\")\n",
    "plt.show()"
   ]
  }
 ],
 "metadata": {
  "kernelspec": {
   "display_name": "Python 3 (ipykernel)",
   "language": "python",
   "name": "python3"
  },
  "language_info": {
   "codemirror_mode": {
    "name": "ipython",
    "version": 3
   },
   "file_extension": ".py",
   "mimetype": "text/x-python",
   "name": "python",
   "nbconvert_exporter": "python",
   "pygments_lexer": "ipython3",
   "version": "3.9.7"
  }
 },
 "nbformat": 4,
 "nbformat_minor": 5
}
